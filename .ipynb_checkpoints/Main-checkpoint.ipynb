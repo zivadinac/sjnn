{
 "cells": [
  {
   "cell_type": "code",
   "execution_count": 1,
   "metadata": {
    "collapsed": false,
    "scrolled": false
   },
   "outputs": [],
   "source": [
    "push!(LOAD_PATH, \"./src/\"); # додамо тренутни фолдер у листу фолдера из којих се учитавају модули"
   ]
  },
  {
   "cell_type": "code",
   "execution_count": 2,
   "metadata": {
    "collapsed": false
   },
   "outputs": [],
   "source": [
    "importall Layers\n",
    "importall NeuralNetworks\n",
    "importall DataManipulation\n",
    "importall Helpers\n",
    "importall Solvers"
   ]
  },
  {
   "cell_type": "code",
   "execution_count": 3,
   "metadata": {
    "collapsed": false
   },
   "outputs": [],
   "source": [
    "classes = Helpers.loadClasses_Cifar10(\"../cifar-10-batches-bin/batches.meta.txt\");\n",
    "testBatchData = Helpers.loadBatch_Cifar10(\"../cifar-10-batches-bin/test_batch.bin\");\n",
    "testBatch = formatBatch_Cifar10(testBatchData, 1, BottomRight);\n",
    "testBatchNormalized = DataManipulation.normalize(testBatch, Val{Float32});"
   ]
  },
  {
   "cell_type": "markdown",
   "metadata": {},
   "source": [
    "#### Дефиниција и учитавање коефицијената обучених модела"
   ]
  },
  {
   "cell_type": "code",
   "execution_count": 12,
   "metadata": {
    "collapsed": false
   },
   "outputs": [
    {
     "name": "stdout",
     "output_type": "stream",
     "text": [
      "Testing Net1 on 10000 examples from testing examples.\n",
      "Broj tačnih: 4001. Broj pogrešnih: [555.0,499.0,732.0,740.0,710.0,693.0,526.0,595.0,417.0,532.0].\n"
     ]
    }
   ],
   "source": [
    "convLay1_1 = ConvolutionalLayer{Float32, ActivationFunctions.TanH, 1, 1, 96}(33, 33, 3, 0.01, 0.01);\n",
    "convLay2_1 = ConvolutionalLayer{Float32, ActivationFunctions.Identity, 1, 1, 96}(31, 31, 96, 0.01, 0.01);\n",
    "convLay3_1 = ConvolutionalLayer{Float32, ActivationFunctions.TanH, 1, 1, 96}(29, 29, 96, 0.01, 0.01);\n",
    "convLay4_1 = ConvolutionalLayer{Float32, ActivationFunctions.Identity, 1, 2, 192}(27, 27, 96, 0.01, 0.01);\n",
    "convLay5_1 = ConvolutionalLayer{Float32, ActivationFunctions.TanH, 1, 1, 192}(13, 13, 192, 0.01, 0.01);\n",
    "convLay6_1 = ConvolutionalLayer{Float32, ActivationFunctions.Identity, 1, 2, 192}(11, 11, 192, 0.01, 0.01);\n",
    "convLay7_1 = ConvolutionalLayer{Float32, ActivationFunctions.TanH, 1, 1, 192}(5, 5, 192, 0.01, 0.01);\n",
    "convLay8_1 = ConvolutionalLayer{Float32, ActivationFunctions.Identity, 1, 1, 10}(3, 3, 192, 0.01, 0.01);\n",
    "net1 = NeuralNetwork{Float32, CostFunctions.Hinge}(\"Net1\", 1);\n",
    "net1.layers = [convLay1_1, convLay2_1, convLay3_1, convLay4_1, convLay5_1, convLay6_1, convLay7_1, convLay8_1];\n",
    "loadParams(net1, \"models/Net1\"); # 91.75% на скупу за обучавање\n",
    "\n",
    "Helpers.test(net1, testBatchNormalized, \"testing examples\");"
   ]
  },
  {
   "cell_type": "code",
   "execution_count": 13,
   "metadata": {
    "collapsed": false
   },
   "outputs": [
    {
     "name": "stdout",
     "output_type": "stream",
     "text": [
      "Testing Net2 on 10000 examples from testing examples.\n",
      "Broj tačnih: 1054. Broj pogrešnih: [957.0,848.0,915.0,930.0,822.0,973.0,738.0,823.0,972.0,968.0].\n"
     ]
    }
   ],
   "source": [
    "convLay1_2 = ConvolutionalLayer{Float32, ActivationFunctions.TanH, 1, 1, 96}(33, 33, 3, 0.01, 0.01);\n",
    "convLay2_2 = ConvolutionalLayer{Float32, ActivationFunctions.Identity, 1, 1, 96}(31, 31, 96, 0.01, 0.01);\n",
    "convLay3_2 = ConvolutionalLayer{Float32, ActivationFunctions.TanH, 1, 1, 96}(29, 29, 96, 0.01, 0.01);\n",
    "convLay4_2 = ConvolutionalLayer{Float32, ActivationFunctions.Identity, 1, 2, 96}(27, 27, 96, 0.01, 0.01);\n",
    "convLay5_2 = ConvolutionalLayer{Float32, ActivationFunctions.TanH, 1, 1, 96}(13, 13, 96, 0.01, 0.01);\n",
    "convLay6_2 = ConvolutionalLayer{Float32, ActivationFunctions.Identity, 1, 2, 96}(11, 11, 96, 0.01, 0.01);\n",
    "convLay7_2 = ConvolutionalLayer{Float32, ActivationFunctions.TanH, 1, 1, 96}(5, 5, 96, 0.01, 0.01);\n",
    "convLay8_2 = ConvolutionalLayer{Float32, ActivationFunctions.Identity, 1, 1, 10}(3, 3, 96, 0.01, 0.01);\n",
    "net2 = NeuralNetwork{Float32, CostFunctions.Hinge}(\"Net2\", 1);\n",
    "net2.layers = [convLay1_2, convLay2_2, convLay3_2, convLay4_2, convLay5_2, convLay6_2, convLay7_2, convLay8_2];\n",
    "loadParams(net1, \"models/Net2\"); # 52.39% на скупу за обучавање\n",
    "\n",
    "\n",
    "Helpers.test(net2, testBatchNormalized, \"testing examples\");"
   ]
  },
  {
   "cell_type": "markdown",
   "metadata": {},
   "source": [
    "#### Обучавање модела"
   ]
  },
  {
   "cell_type": "code",
   "execution_count": null,
   "metadata": {
    "collapsed": true
   },
   "outputs": [],
   "source": [
    "batch1Data = Helpers.loadBatch_Cifar10(\"../cifar-10-batches-bin/data_batch_1.bin\");\n",
    "batch1 = formatBatch_Cifar10(batch1Data, 1, BottomRight);\n",
    "batch2Data = Helpers.loadBatch_Cifar10(\"../cifar-10-batches-bin/data_batch_2.bin\");\n",
    "batch2 = formatBatch_Cifar10(batch2Data, 1, BottomRight);\n",
    "batch3Data = Helpers.loadBatch_Cifar10(\"../cifar-10-batches-bin/data_batch_3.bin\");\n",
    "batch3 = formatBatch_Cifar10(batch3Data, 1, BottomRight);\n",
    "batch4Data = Helpers.loadBatch_Cifar10(\"../cifar-10-batches-bin/data_batch_4.bin\");\n",
    "batch4 = formatBatch_Cifar10(batch4Data, 1, BottomRight);\n",
    "batch5Data = Helpers.loadBatch_Cifar10(\"../cifar-10-batches-bin/data_batch_5.bin\");\n",
    "batch5 = formatBatch_Cifar10(batch5Data, 1, BottomRight);\n",
    "trainingBatch = DataManipulation.normalize(vcat(batch1, batch2, batch3, batch4, batch5), Val{Float32});"
   ]
  },
  {
   "cell_type": "code",
   "execution_count": null,
   "metadata": {
    "collapsed": false
   },
   "outputs": [],
   "source": [
    "learningRate = Float32(0.001);\n",
    "regCoef = Float32(0.01);\n",
    "epochNum = 30;\n",
    "dropFactor = Float32(0.5);\n",
    "dropInterval = 4;\n",
    "beta1 = Float32(0.9);\n",
    "beta2 = Float32(0.999);\n",
    "eps = Float32(1f-8);\n",
    "modelsFolder = \"../models/\";\n",
    "solver = Adam{Float32}(net1.layers, learningRate, regCoef, epochNum, dropFactor, dropInterval, beta1, beta2, eps);"
   ]
  },
  {
   "cell_type": "code",
   "execution_count": null,
   "metadata": {
    "collapsed": true
   },
   "outputs": [],
   "source": [
    "println(\"Обучавање почело у $(Dates.format(now(), \"HH:MM:SS\")).\")\n",
    "lossVals, avgLossByEpoch = train!(solver, net1, trainingBatch, modelsFolder);\n",
    "println(\"Обучавање завршено у $(Dates.format(now(), \"HH:MM:SS\")).\")"
   ]
  }
 ],
 "metadata": {
  "anaconda-cloud": {},
  "kernelspec": {
   "display_name": "Julia 0.5.2",
   "language": "julia",
   "name": "julia-0.5"
  },
  "language_info": {
   "file_extension": ".jl",
   "mimetype": "application/julia",
   "name": "julia",
   "version": "0.5.2"
  }
 },
 "nbformat": 4,
 "nbformat_minor": 2
}
